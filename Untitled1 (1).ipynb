{
 "cells": [
  {
   "cell_type": "code",
   "execution_count": 1,
   "metadata": {
    "collapsed": false
   },
   "outputs": [
    {
     "data": {
      "application/javascript": [
       "if(window['d3'] === undefined ||\n",
       "   window['Nyaplot'] === undefined){\n",
       "    var path = {\"d3\":\"http://d3js.org/d3.v3.min\",\"downloadable\":\"http://cdn.rawgit.com/domitry/d3-downloadable/master/d3-downloadable\"};\n",
       "\n",
       "\n",
       "\n",
       "    var shim = {\"d3\":{\"exports\":\"d3\"},\"downloadable\":{\"exports\":\"downloadable\"}};\n",
       "\n",
       "    require.config({paths: path, shim:shim});\n",
       "\n",
       "\n",
       "require(['d3'], function(d3){window['d3']=d3;console.log('finished loading d3');require(['downloadable'], function(downloadable){window['downloadable']=downloadable;console.log('finished loading downloadable');\n",
       "\n",
       "\tvar script = d3.select(\"head\")\n",
       "\t    .append(\"script\")\n",
       "\t    .attr(\"src\", \"http://cdn.rawgit.com/domitry/Nyaplotjs/master/release/nyaplot.js\")\n",
       "\t    .attr(\"async\", true);\n",
       "\n",
       "\tscript[0][0].onload = script[0][0].onreadystatechange = function(){\n",
       "\n",
       "\n",
       "\t    var event = document.createEvent(\"HTMLEvents\");\n",
       "\t    event.initEvent(\"load_nyaplot\",false,false);\n",
       "\t    window.dispatchEvent(event);\n",
       "\t    console.log('Finished loading Nyaplotjs');\n",
       "\n",
       "\t};\n",
       "\n",
       "\n",
       "});});\n",
       "}\n"
      ],
      "text/plain": [
       "\"if(window['d3'] === undefined ||\\n   window['Nyaplot'] === undefined){\\n    var path = {\\\"d3\\\":\\\"http://d3js.org/d3.v3.min\\\",\\\"downloadable\\\":\\\"http://cdn.rawgit.com/domitry/d3-downloadable/master/d3-downloadable\\\"};\\n\\n\\n\\n    var shim = {\\\"d3\\\":{\\\"exports\\\":\\\"d3\\\"},\\\"downloadable\\\":{\\\"exports\\\":\\\"downloadable\\\"}};\\n\\n    require.config({paths: path, shim:shim});\\n\\n\\nrequire(['d3'], function(d3){window['d3']=d3;console.log('finished loading d3');require(['downloadable'], function(downloadable){window['downloadable']=downloadable;console.log('finished loading downloadable');\\n\\n\\tvar script = d3.select(\\\"head\\\")\\n\\t    .append(\\\"script\\\")\\n\\t    .attr(\\\"src\\\", \\\"http://cdn.rawgit.com/domitry/Nyaplotjs/master/release/nyaplot.js\\\")\\n\\t    .attr(\\\"async\\\", true);\\n\\n\\tscript[0][0].onload = script[0][0].onreadystatechange = function(){\\n\\n\\n\\t    var event = document.createEvent(\\\"HTMLEvents\\\");\\n\\t    event.initEvent(\\\"load_nyaplot\\\",false,false);\\n\\t    window.dispatchEvent(event);\\n\\t    console.log('Finished loading Nyaplotjs');\\n\\n\\t};\\n\\n\\n});});\\n}\\n\""
      ]
     },
     "metadata": {},
     "output_type": "display_data"
    },
    {
     "data": {
      "text/html": [
       "<div id='vis-16c6b89a-7742-4927-b9d4-758cb32f1230'></div>\n",
       "<script>\n",
       "(function(){\n",
       "    var render = function(){\n",
       "        var model = {\"panes\":[{\"diagrams\":[{\"type\":\"scatter\",\"options\":{\"x\":\"data0\",\"y\":\"data1\"},\"data\":\"0f9691fd-bbd6-494a-b28e-f0d00f9d48f0\"}],\"options\":{\"x_label\":\"年齢\",\"y_label\":\"身長(cm)\",\"zoom\":true,\"width\":700,\"xrange\":[10,24],\"yrange\":[140,169]}}],\"data\":{\"0f9691fd-bbd6-494a-b28e-f0d00f9d48f0\":[{\"data0\":17,\"data1\":158},{\"data0\":14,\"data1\":156},{\"data0\":16,\"data1\":162},{\"data0\":14,\"data1\":146},{\"data0\":18,\"data1\":169},{\"data0\":16,\"data1\":157},{\"data0\":17,\"data1\":156},{\"data0\":18,\"data1\":157},{\"data0\":15,\"data1\":156},{\"data0\":13,\"data1\":146},{\"data0\":16,\"data1\":154},{\"data0\":21,\"data1\":168},{\"data0\":15,\"data1\":153},{\"data0\":14,\"data1\":162},{\"data0\":14,\"data1\":152},{\"data0\":14,\"data1\":155},{\"data0\":13,\"data1\":156},{\"data0\":12,\"data1\":147},{\"data0\":16,\"data1\":152},{\"data0\":17,\"data1\":159},{\"data0\":20,\"data1\":164},{\"data0\":16,\"data1\":155},{\"data0\":18,\"data1\":158},{\"data0\":17,\"data1\":160},{\"data0\":14,\"data1\":145},{\"data0\":15,\"data1\":154},{\"data0\":16,\"data1\":150},{\"data0\":24,\"data1\":143},{\"data0\":18,\"data1\":164},{\"data0\":19,\"data1\":158},{\"data0\":17,\"data1\":160},{\"data0\":23,\"data1\":168},{\"data0\":17,\"data1\":159},{\"data0\":19,\"data1\":156},{\"data0\":14,\"data1\":158},{\"data0\":14,\"data1\":161},{\"data0\":16,\"data1\":159},{\"data0\":11,\"data1\":140},{\"data0\":19,\"data1\":163},{\"data0\":16,\"data1\":159},{\"data0\":22,\"data1\":162},{\"data0\":10,\"data1\":142},{\"data0\":15,\"data1\":154},{\"data0\":21,\"data1\":165},{\"data0\":17,\"data1\":155},{\"data0\":13,\"data1\":158},{\"data0\":13,\"data1\":158},{\"data0\":15,\"data1\":161},{\"data0\":17,\"data1\":156},{\"data0\":15,\"data1\":154}]},\"extension\":[]}\n",
       "        var id_name = '#vis-16c6b89a-7742-4927-b9d4-758cb32f1230';\n",
       "        Nyaplot.core.parse(model, id_name);\n",
       "\n",
       "        require(['downloadable'], function(downloadable){\n",
       "          var svg = d3.select(id_name).select(\"svg\");\n",
       "\t  if(!svg.empty())\n",
       "\t    svg.call(downloadable().filename('fig'));\n",
       "\t});\n",
       "    };\n",
       "    if(window['Nyaplot']==undefined){\n",
       "        window.addEventListener('load_nyaplot', render, false);\n",
       "\treturn;\n",
       "    } else {\n",
       "       render();\n",
       "    }\n",
       "})();\n",
       "</script>\n"
      ],
      "text/plain": [
       "#<Nyaplot::Frame:0x007fec7524d740 @properties={:panes=>[#<Nyaplot::Plot:0x007fec752559b8 @properties={:diagrams=>[#<Nyaplot::Diagram:0x007fec7524de20 @properties={:type=>:scatter, :options=>{:x=>\"data0\", :y=>\"data1\"}, :data=>\"0f9691fd-bbd6-494a-b28e-f0d00f9d48f0\"}, @xrange=[10, 24], @yrange=[140, 169]>], :options=>{:x_label=>\"年齢\", :y_label=>\"身長(cm)\", :zoom=>true, :width=>700, :xrange=>[10, 24], :yrange=>[140, 169]}}>], :data=>{\"0f9691fd-bbd6-494a-b28e-f0d00f9d48f0\"=>#<Nyaplot::DataFrame:0x007fec752553f0 @name=\"0f9691fd-bbd6-494a-b28e-f0d00f9d48f0\", @rows=[{:data0=>17, :data1=>158}, {:data0=>14, :data1=>156}, {:data0=>16, :data1=>162}, {:data0=>14, :data1=>146}, {:data0=>18, :data1=>169}, {:data0=>16, :data1=>157}, {:data0=>17, :data1=>156}, {:data0=>18, :data1=>157}, {:data0=>15, :data1=>156}, {:data0=>13, :data1=>146}, {:data0=>16, :data1=>154}, {:data0=>21, :data1=>168}, {:data0=>15, :data1=>153}, {:data0=>14, :data1=>162}, {:data0=>14, :data1=>152}, {:data0=>14, :data1=>155}, {:data0=>13, :data1=>156}, {:data0=>12, :data1=>147}, {:data0=>16, :data1=>152}, {:data0=>17, :data1=>159}, {:data0=>20, :data1=>164}, {:data0=>16, :data1=>155}, {:data0=>18, :data1=>158}, {:data0=>17, :data1=>160}, {:data0=>14, :data1=>145}, {:data0=>15, :data1=>154}, {:data0=>16, :data1=>150}, {:data0=>24, :data1=>143}, {:data0=>18, :data1=>164}, {:data0=>19, :data1=>158}, {:data0=>17, :data1=>160}, {:data0=>23, :data1=>168}, {:data0=>17, :data1=>159}, {:data0=>19, :data1=>156}, {:data0=>14, :data1=>158}, {:data0=>14, :data1=>161}, {:data0=>16, :data1=>159}, {:data0=>11, :data1=>140}, {:data0=>19, :data1=>163}, {:data0=>16, :data1=>159}, {:data0=>22, :data1=>162}, {:data0=>10, :data1=>142}, {:data0=>15, :data1=>154}, {:data0=>21, :data1=>165}, {:data0=>17, :data1=>155}, {:data0=>13, :data1=>158}, {:data0=>13, :data1=>158}, {:data0=>15, :data1=>161}, {:data0=>17, :data1=>156}, {:data0=>15, :data1=>154}]>}, :extension=>[]}>"
      ]
     },
     "metadata": {},
     "output_type": "display_data"
    }
   ],
   "source": [
    "require 'json'\n",
    "require 'open-uri'\n",
    "require 'nyaplot'\n",
    "\n",
    "uri = 'https://gist.githubusercontent.com/gomao9/4965b8d1ad49be8bc00a/raw/f3dd24172c2878b733d4f2e9b1152b12c39b9247/million_profile.json'\n",
    "\n",
    "data =  JSON.parse(open(uri).read).map do |idol|\n",
    "  [idol['age'][0,2].to_i,\n",
    "   idol['height'][0,3].to_i,\n",
    "  ]\n",
    "end\n",
    "\n",
    "plot = Nyaplot::Plot.new\n",
    "sc = plot.add(:scatter, *data.transpose)\n",
    "plot.x_label(\"年齢\")\n",
    "plot.y_label(\"身長(cm)\")\n",
    "plot.show"
   ]
  }
 ],
 "metadata": {
  "kernelspec": {
   "display_name": "Ruby 2.2.2",
   "language": "ruby",
   "name": "ruby"
  },
  "language_info": {
   "file_extension": "rb",
   "mimetype": "application/x-ruby",
   "name": "ruby",
   "version": "2.2.2"
  }
 },
 "nbformat": 4,
 "nbformat_minor": 0
}
